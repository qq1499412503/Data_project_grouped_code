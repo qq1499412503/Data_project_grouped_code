{
 "cells": [
  {
   "cell_type": "code",
   "execution_count": 1,
   "metadata": {
    "pycharm": {
     "is_executing": false,
     "name": "#%%\n"
    }
   },
   "outputs": [
    {
     "name": "stderr",
     "output_type": "stream",
     "text": [
      "Using TensorFlow backend.\n"
     ]
    }
   ],
   "source": [
    "from __future__ import print_function\n",
    "import keras\n",
    "from keras.optimizers import SGD\n",
    "from keras.layers import add, Flatten, MaxPooling2D, Dropout, ZeroPadding2D\n",
    "from keras.layers import Dense, Conv2D, BatchNormalization, Activation\n",
    "from keras.layers import AveragePooling2D, Input, Flatten\n",
    "from keras.optimizers import Adam\n",
    "from keras.callbacks import ModelCheckpoint, LearningRateScheduler\n",
    "from keras.callbacks import ReduceLROnPlateau\n",
    "from keras.preprocessing.image import ImageDataGenerator\n",
    "from keras.regularizers import l2\n",
    "from keras import backend as K\n",
    "from keras.models import Model\n",
    "from keras.datasets import cifar10\n",
    "import numpy as np\n",
    "import os"
   ]
  },
  {
   "cell_type": "code",
   "execution_count": 2,
   "metadata": {
    "pycharm": {
     "is_executing": false,
     "name": "#%%\n"
    }
   },
   "outputs": [
    {
     "name": "stdout",
     "output_type": "stream",
     "text": [
      "x_train shape: (50000, 32, 32, 3)\n",
      "50000 train samples\n",
      "10000 test samples\n",
      "y_train shape: (50000, 1)\n",
      "x_train shape: (50000, 32, 32, 3)\n",
      "50000 train samples\n",
      "10000 test samples\n",
      "y_train shape: (50000, 10)\n"
     ]
    }
   ],
   "source": [
    "#Load Cifar-10 data\n",
    "(x_train, y_train), (x_test, y_test) = cifar10.load_data()\n",
    "x_train\n",
    "# Normalize data.\n",
    "input_shape = x_train.shape[1:]\n",
    "def normalizer(x_train, x_test):\n",
    "    x_train = x_train.astype('float32') / 255\n",
    "    x_test = x_test.astype('float32') / 255\n",
    "    return x_train, x_test\n",
    "\n",
    "# If subtract pixel mean is enabled\n",
    "def subtract_pixel_mean(x_train, x_test):\n",
    "    x_train_mean = np.mean(x_train, axis=0)\n",
    "    x_train -= x_train_mean\n",
    "    x_test -= x_train_mean\n",
    "    return x_train, x_test\n",
    "\n",
    "def print_info(x_train, y_train, x_test):\n",
    "    print('x_train shape:', x_train.shape)\n",
    "    print(x_train.shape[0], 'train samples')\n",
    "    print(x_test.shape[0], 'test samples')\n",
    "    print('y_train shape:', y_train.shape)\n",
    "\n",
    "\n",
    "\n",
    "# Convert class vectors to binary class matrices.\n",
    "def label_binary(y_train, y_test, num_classes):\n",
    "    y_train = keras.utils.to_categorical(y_train, num_classes)\n",
    "    y_test = keras.utils.to_categorical(y_test, num_classes)\n",
    "    return y_train, y_test\n",
    "print_info(x_train, y_train, x_test)\n",
    "(x_train, x_test)=normalizer(x_train, x_test)\n",
    "#(x_train, x_test)=subtract_pixel_mean(x_train, x_test)\n",
    "(y_train, y_test)=label_binary(y_train, y_test, 10)\n",
    "print_info(x_train, y_train, x_test)\n",
    "def lr_schedule(epoch):\n",
    "    lr = 1e-3\n",
    "    if epoch > 180:\n",
    "        lr *= 0.5e-3\n",
    "    elif epoch > 160:\n",
    "        lr *= 1e-3\n",
    "    elif epoch > 120:\n",
    "        lr *= 1e-2\n",
    "    elif epoch > 80:\n",
    "        lr *= 1e-1\n",
    "    print('Learning rate: ', lr)\n",
    "    return lr"
   ]
  },
  {
   "cell_type": "code",
   "execution_count": 3,
   "metadata": {
    "pycharm": {
     "is_executing": false,
     "name": "#%%\n"
    }
   },
   "outputs": [],
   "source": [
    "def resnet_layer(inputs,\n",
    "                 num_filters=16,\n",
    "                 kernel_size=3,\n",
    "                 strides=1,\n",
    "                 activation='relu',\n",
    "                 batch_normalization=True,\n",
    "                 conv_first=True):\n",
    "\n",
    "    conv = Conv2D(num_filters,\n",
    "                  kernel_size=kernel_size,\n",
    "                  strides=strides,\n",
    "                  padding='same',\n",
    "                  kernel_initializer='he_normal',\n",
    "                  kernel_regularizer=l2(1e-4))\n",
    "\n",
    "    x = inputs\n",
    "    if conv_first:\n",
    "        x = conv(x)\n",
    "        if batch_normalization:\n",
    "            x = BatchNormalization()(x)\n",
    "        if activation is not None:\n",
    "            x = Activation(activation)(x)\n",
    "    else:\n",
    "        if batch_normalization:\n",
    "            x = BatchNormalization()(x)\n",
    "        if activation is not None:\n",
    "            x = Activation(activation)(x)\n",
    "        x = conv(x)\n",
    "    return x"
   ]
  },
  {
   "cell_type": "code",
   "execution_count": 4,
   "metadata": {
    "pycharm": {
     "is_executing": false,
     "name": "#%%\n"
    }
   },
   "outputs": [],
   "source": [
    "def resnet_v1(input_shape, depth, num_classes=10):\n",
    "\n",
    "    if (depth - 2) % 6 != 0:\n",
    "        raise ValueError('depth should be 6n+2 (eg 20, 32, 44 in [a])')\n",
    "    # Start model definition.\n",
    "    num_filters = 16\n",
    "    num_res_blocks = int((depth - 2) / 6)\n",
    "\n",
    "    inputs = Input(shape=input_shape)\n",
    "    x = resnet_layer(inputs=inputs)\n",
    "    # Instantiate the stack of residual units\n",
    "    for stack in range(3):\n",
    "        for res_block in range(num_res_blocks):\n",
    "            strides = 1\n",
    "            if stack > 0 and res_block == 0:  # first layer but not first stack\n",
    "                strides = 2  # downsample\n",
    "            y = resnet_layer(inputs=x,\n",
    "                             num_filters=num_filters,\n",
    "                             strides=strides)\n",
    "            y = resnet_layer(inputs=y,\n",
    "                             num_filters=num_filters,\n",
    "                             activation=None)\n",
    "            if stack > 0 and res_block == 0:  # first layer but not first stack\n",
    "                # linear projection residual shortcut connection to match\n",
    "                # changed dims\n",
    "                x = resnet_layer(inputs=x,\n",
    "                                 num_filters=num_filters,\n",
    "                                 kernel_size=1,\n",
    "                                 strides=strides,\n",
    "                                 activation=None,\n",
    "                                 batch_normalization=False)\n",
    "            x = keras.layers.add([x, y])\n",
    "            x = Activation('relu')(x)\n",
    "        num_filters *= 2\n",
    "\n",
    "    # Add classifier on top.\n",
    "    # v1 does not use BN after last shortcut connection-ReLU\n",
    "    x = AveragePooling2D(pool_size=8)(x)\n",
    "    y = Flatten()(x)\n",
    "    outputs = Dense(num_classes,\n",
    "                    activation='softmax',\n",
    "                    kernel_initializer='he_normal')(y)\n",
    "\n",
    "    # Instantiate model.\n",
    "    model = Model(inputs=inputs, outputs=outputs)\n",
    "    return model\n",
    "    "
   ]
  },
  {
   "cell_type": "code",
   "execution_count": 36,
   "metadata": {
    "pycharm": {
     "is_executing": false,
     "name": "#%%\n"
    }
   },
   "outputs": [
    {
     "name": "stdout",
     "output_type": "stream",
     "text": [
      "Learning rate:  0.001\n"
     ]
    }
   ],
   "source": [
    "model = resnet_v1(input_shape=input_shape, depth=32)\n",
    "#optimizer=Adam(lr=lr_schedule(0))\n",
    "\n",
    "model.compile(loss='categorical_crossentropy',\n",
    "              optimizer=SGD(lr=lr_schedule(0)),\n",
    "              metrics=['accuracy'])"
   ]
  },
  {
   "cell_type": "code",
   "execution_count": 37,
   "metadata": {
    "pycharm": {
     "is_executing": false,
     "name": "#%%\n"
    }
   },
   "outputs": [
    {
     "name": "stdout",
     "output_type": "stream",
     "text": [
      "Train on 50000 samples, validate on 10000 samples\n",
      "Epoch 1/50\n",
      "50000/50000 [==============================] - 74s 1ms/step - loss: 2.2806 - acc: 0.2632 - val_loss: 2.0653 - val_acc: 0.3294\n",
      "Epoch 2/50\n",
      "50000/50000 [==============================] - 68s 1ms/step - loss: 1.9966 - acc: 0.3527 - val_loss: 1.8982 - val_acc: 0.3897\n",
      "Epoch 3/50\n",
      "50000/50000 [==============================] - 68s 1ms/step - loss: 1.8813 - acc: 0.3943 - val_loss: 1.8119 - val_acc: 0.4209\n",
      "Epoch 4/50\n",
      "50000/50000 [==============================] - 69s 1ms/step - loss: 1.8104 - acc: 0.4218 - val_loss: 1.7573 - val_acc: 0.4406\n",
      "Epoch 5/50\n",
      "50000/50000 [==============================] - 69s 1ms/step - loss: 1.7600 - acc: 0.4417 - val_loss: 1.7192 - val_acc: 0.4581\n",
      "Epoch 6/50\n",
      "50000/50000 [==============================] - 69s 1ms/step - loss: 1.7079 - acc: 0.4641 - val_loss: 1.6655 - val_acc: 0.4741\n",
      "Epoch 7/50\n",
      "50000/50000 [==============================] - 61s 1ms/step - loss: 1.6637 - acc: 0.4829 - val_loss: 1.6205 - val_acc: 0.4935\n",
      "Epoch 8/50\n",
      "50000/50000 [==============================] - 64s 1ms/step - loss: 1.6300 - acc: 0.4956 - val_loss: 1.5972 - val_acc: 0.5044\n",
      "Epoch 9/50\n",
      "50000/50000 [==============================] - 61s 1ms/step - loss: 1.5972 - acc: 0.5061 - val_loss: 1.5695 - val_acc: 0.5195\n",
      "Epoch 10/50\n",
      "50000/50000 [==============================] - 59s 1ms/step - loss: 1.5720 - acc: 0.5176 - val_loss: 1.5473 - val_acc: 0.5171\n",
      "Epoch 11/50\n",
      "50000/50000 [==============================] - 59s 1ms/step - loss: 1.5494 - acc: 0.5266 - val_loss: 1.5243 - val_acc: 0.5342\n",
      "Epoch 12/50\n",
      "50000/50000 [==============================] - 59s 1ms/step - loss: 1.5219 - acc: 0.5363 - val_loss: 1.5158 - val_acc: 0.5384\n",
      "Epoch 13/50\n",
      "50000/50000 [==============================] - 60s 1ms/step - loss: 1.4990 - acc: 0.5471 - val_loss: 1.4819 - val_acc: 0.5488\n",
      "Epoch 14/50\n",
      "50000/50000 [==============================] - 59s 1ms/step - loss: 1.4777 - acc: 0.5544 - val_loss: 1.4741 - val_acc: 0.5510\n",
      "Epoch 15/50\n",
      "50000/50000 [==============================] - 59s 1ms/step - loss: 1.4628 - acc: 0.5611 - val_loss: 1.4513 - val_acc: 0.5580\n",
      "Epoch 16/50\n",
      "50000/50000 [==============================] - 60s 1ms/step - loss: 1.4409 - acc: 0.5686 - val_loss: 1.4421 - val_acc: 0.5636\n",
      "Epoch 17/50\n",
      "50000/50000 [==============================] - 60s 1ms/step - loss: 1.4241 - acc: 0.5748 - val_loss: 1.4289 - val_acc: 0.5688\n",
      "Epoch 18/50\n",
      "50000/50000 [==============================] - 60s 1ms/step - loss: 1.4061 - acc: 0.5826 - val_loss: 1.4102 - val_acc: 0.5778\n",
      "Epoch 19/50\n",
      "50000/50000 [==============================] - 60s 1ms/step - loss: 1.3900 - acc: 0.5881 - val_loss: 1.4084 - val_acc: 0.5750\n",
      "Epoch 20/50\n",
      "50000/50000 [==============================] - 60s 1ms/step - loss: 1.3758 - acc: 0.5941 - val_loss: 1.4223 - val_acc: 0.5716\n",
      "Epoch 21/50\n",
      "50000/50000 [==============================] - 60s 1ms/step - loss: 1.3593 - acc: 0.5991 - val_loss: 1.3778 - val_acc: 0.5892\n",
      "Epoch 22/50\n",
      "50000/50000 [==============================] - 61s 1ms/step - loss: 1.3433 - acc: 0.6063 - val_loss: 1.3836 - val_acc: 0.5885\n",
      "Epoch 23/50\n",
      "50000/50000 [==============================] - 66s 1ms/step - loss: 1.3290 - acc: 0.6140 - val_loss: 1.3697 - val_acc: 0.5909\n",
      "Epoch 24/50\n",
      "50000/50000 [==============================] - 60s 1ms/step - loss: 1.3162 - acc: 0.6161 - val_loss: 1.3892 - val_acc: 0.5846\n",
      "Epoch 25/50\n",
      "50000/50000 [==============================] - 60s 1ms/step - loss: 1.3022 - acc: 0.6220 - val_loss: 1.3591 - val_acc: 0.5956\n",
      "Epoch 26/50\n",
      "50000/50000 [==============================] - 61s 1ms/step - loss: 1.2879 - acc: 0.6269 - val_loss: 1.3629 - val_acc: 0.5978\n",
      "Epoch 27/50\n",
      "50000/50000 [==============================] - 60s 1ms/step - loss: 1.2795 - acc: 0.6282 - val_loss: 1.3162 - val_acc: 0.6131\n",
      "Epoch 28/50\n",
      "50000/50000 [==============================] - 61s 1ms/step - loss: 1.2639 - acc: 0.6341 - val_loss: 1.3197 - val_acc: 0.6114\n",
      "Epoch 29/50\n",
      "50000/50000 [==============================] - 61s 1ms/step - loss: 1.2508 - acc: 0.6400 - val_loss: 1.3572 - val_acc: 0.6015\n",
      "Epoch 30/50\n",
      "50000/50000 [==============================] - 60s 1ms/step - loss: 1.2407 - acc: 0.6425 - val_loss: 1.3310 - val_acc: 0.6072\n",
      "Epoch 31/50\n",
      "50000/50000 [==============================] - 61s 1ms/step - loss: 1.2299 - acc: 0.6485 - val_loss: 1.3005 - val_acc: 0.6212\n",
      "Epoch 32/50\n",
      "50000/50000 [==============================] - 60s 1ms/step - loss: 1.2148 - acc: 0.6527 - val_loss: 1.2935 - val_acc: 0.6260\n",
      "Epoch 33/50\n",
      "50000/50000 [==============================] - 60s 1ms/step - loss: 1.2049 - acc: 0.6549 - val_loss: 1.2854 - val_acc: 0.6258\n",
      "Epoch 34/50\n",
      "50000/50000 [==============================] - 61s 1ms/step - loss: 1.1945 - acc: 0.6607 - val_loss: 1.2923 - val_acc: 0.6267\n",
      "Epoch 35/50\n",
      "50000/50000 [==============================] - 61s 1ms/step - loss: 1.1824 - acc: 0.6633 - val_loss: 1.2779 - val_acc: 0.6317\n",
      "Epoch 36/50\n",
      "50000/50000 [==============================] - 60s 1ms/step - loss: 1.1716 - acc: 0.6696 - val_loss: 1.2611 - val_acc: 0.6341\n",
      "Epoch 37/50\n",
      "50000/50000 [==============================] - 62s 1ms/step - loss: 1.1640 - acc: 0.6726 - val_loss: 1.2579 - val_acc: 0.6388\n",
      "Epoch 38/50\n",
      "50000/50000 [==============================] - 60s 1ms/step - loss: 1.1503 - acc: 0.6777 - val_loss: 1.2678 - val_acc: 0.6344\n",
      "Epoch 39/50\n",
      "50000/50000 [==============================] - 61s 1ms/step - loss: 1.1422 - acc: 0.6786 - val_loss: 1.2563 - val_acc: 0.6384\n",
      "Epoch 40/50\n",
      "50000/50000 [==============================] - 61s 1ms/step - loss: 1.1299 - acc: 0.6847 - val_loss: 1.2525 - val_acc: 0.6424\n",
      "Epoch 41/50\n",
      "50000/50000 [==============================] - 61s 1ms/step - loss: 1.1139 - acc: 0.6894 - val_loss: 1.2397 - val_acc: 0.6439\n",
      "Epoch 42/50\n",
      "50000/50000 [==============================] - 61s 1ms/step - loss: 1.1090 - acc: 0.6918 - val_loss: 1.2678 - val_acc: 0.6404\n",
      "Epoch 43/50\n",
      "50000/50000 [==============================] - 61s 1ms/step - loss: 1.1028 - acc: 0.6933 - val_loss: 1.2423 - val_acc: 0.6441\n",
      "Epoch 44/50\n",
      "50000/50000 [==============================] - 61s 1ms/step - loss: 1.0875 - acc: 0.7003 - val_loss: 1.2711 - val_acc: 0.6380\n",
      "Epoch 45/50\n",
      "50000/50000 [==============================] - 60s 1ms/step - loss: 1.0826 - acc: 0.7010 - val_loss: 1.2472 - val_acc: 0.6434\n",
      "Epoch 46/50\n",
      "50000/50000 [==============================] - 60s 1ms/step - loss: 1.0737 - acc: 0.7041 - val_loss: 1.2325 - val_acc: 0.6506\n",
      "Epoch 47/50\n",
      "50000/50000 [==============================] - 61s 1ms/step - loss: 1.0621 - acc: 0.7090 - val_loss: 1.2502 - val_acc: 0.6443\n",
      "Epoch 48/50\n",
      "50000/50000 [==============================] - 60s 1ms/step - loss: 1.0533 - acc: 0.7120 - val_loss: 1.2502 - val_acc: 0.6467\n",
      "Epoch 49/50\n",
      "50000/50000 [==============================] - 61s 1ms/step - loss: 1.0416 - acc: 0.7149 - val_loss: 1.2309 - val_acc: 0.6534\n",
      "Epoch 50/50\n",
      "50000/50000 [==============================] - 62s 1ms/step - loss: 1.0313 - acc: 0.7182 - val_loss: 1.2232 - val_acc: 0.6471\n"
     ]
    }
   ],
   "source": [
    "\n",
    "models = model.fit(x_train, y_train,\n",
    "              batch_size=32,\n",
    "              epochs=50,\n",
    "          validation_data=(x_test, y_test),\n",
    "              )\n",
    "\n",
    "\n"
   ]
  },
  {
   "cell_type": "code",
   "execution_count": null,
   "metadata": {
    "pycharm": {
     "is_executing": false,
     "name": "#%%\n"
    }
   },
   "outputs": [],
   "source": [
    "datagen = ImageDataGenerator(\n",
    "        # set input mean to 0 over the dataset\n",
    "        featurewise_center=False,\n",
    "        # set each sample mean to 0\n",
    "        samplewise_center=False,\n",
    "        # divide inputs by std of dataset\n",
    "        featurewise_std_normalization=False,\n",
    "        # divide each input by its std\n",
    "        samplewise_std_normalization=False,\n",
    "        # apply ZCA whitening\n",
    "        zca_whitening=False,\n",
    "        # epsilon for ZCA whitening\n",
    "        zca_epsilon=1e-06,\n",
    "        # randomly rotate images in the range (deg 0 to 180)\n",
    "        rotation_range=0,\n",
    "        # randomly shift images horizontally\n",
    "        width_shift_range=0.1,\n",
    "        # randomly shift images vertically\n",
    "        height_shift_range=0.1,\n",
    "        # set range for random shear\n",
    "        shear_range=0.,\n",
    "        # set range for random zoom\n",
    "        zoom_range=0.,\n",
    "        # set range for random channel shifts\n",
    "        channel_shift_range=0.,\n",
    "        # set mode for filling points outside the input boundaries\n",
    "        fill_mode='nearest',\n",
    "        # value used for fill_mode = \"constant\"\n",
    "        cval=0.,\n",
    "        # randomly flip images\n",
    "        horizontal_flip=True,\n",
    "        # randomly flip images\n",
    "        vertical_flip=False,\n",
    "        # set rescaling factor (applied before any other transformation)\n",
    "        rescale=None,\n",
    "        # set function that will be applied on each input\n",
    "        preprocessing_function=None,\n",
    "        # image data format, either \"channels_first\" or \"channels_last\"\n",
    "        data_format=None,\n",
    "        # fraction of images reserved for validation (strictly between 0 and 1)\n",
    "        validation_split=0.0)\n",
    "\n",
    "    # Compute quantities required for featurewise normalization\n",
    "    # (std, mean, and principal components if ZCA whitening is applied).\n",
    "#datagen.fit(x_train)\n",
    "\n",
    "    # Fit the model on the batches generated by datagen.flow().\n",
    "model.fit_generator(datagen.flow(x_train, y_train, batch_size=16),\n",
    "                        validation_data=(x_test, y_test),\n",
    "                    steps_per_epoch=1,\n",
    "                        epochs=200, verbose=1, workers=4)"
   ]
  },
  {
   "cell_type": "code",
   "execution_count": 38,
   "metadata": {
    "pycharm": {
     "is_executing": false,
     "name": "#%%\n"
    }
   },
   "outputs": [
    {
     "name": "stdout",
     "output_type": "stream",
     "text": [
      "[INFO] Evaluating model\n",
      "              precision    recall  f1-score   support\n",
      "\n",
      "    airplane       0.62      0.73      0.67      1000\n",
      "  automobile       0.75      0.82      0.78      1000\n",
      "        bird       0.50      0.55      0.53      1000\n",
      "         cat       0.50      0.35      0.41      1000\n",
      "        deer       0.51      0.66      0.58      1000\n",
      "         dog       0.58      0.53      0.55      1000\n",
      "        frog       0.78      0.65      0.71      1000\n",
      "       horse       0.68      0.73      0.70      1000\n",
      "        ship       0.78      0.76      0.77      1000\n",
      "       truck       0.81      0.68      0.74      1000\n",
      "\n",
      "    accuracy                           0.65     10000\n",
      "   macro avg       0.65      0.65      0.65     10000\n",
      "weighted avg       0.65      0.65      0.65     10000\n",
      "\n",
      "[[727  37  67   9  17   2   5  21  87  28]\n",
      " [ 40 825   6   7   8   5   3   7  31  68]\n",
      " [ 95   5 550  45 139  48  43  56  12   7]\n",
      " [ 48   9 132 351 110 202  70  45  20  13]\n",
      " [ 27   8 103  33 662  30  38  88  10   1]\n",
      " [ 19   7  85 160  89 528  14  81  12   5]\n",
      " [ 19   4  81  55 138  27 648  10  12   6]\n",
      " [ 28   2  45  24  95  58   2 735   2   9]\n",
      " [120  46  18   7  14   4   4   7 761  19]\n",
      " [ 53 159   8   6  17   4   5  37  27 684]]\n"
     ]
    },
    {
     "data": {
      "image/png": "[encoded data removed]",
      "text/plain": [
       "<Figure size 432x288 with 1 Axes>"
      ]
     },
     "metadata": {},
     "output_type": "display_data"
    }
   ],
   "source": [
    "predictions = model.predict(x_test, batch_size=16)\n",
    "print('[INFO] Evaluating model')\n",
    "from sklearn.metrics import classification_report\n",
    "result = classification_report(y_test.argmax(axis=1), predictions.argmax(axis=1),\n",
    "                            target_names=['airplane', 'automobile', 'bird',\n",
    "                                          'cat','deer','dog','frog','horse','ship','truck'])\n",
    "print(result)\n",
    "from sklearn.metrics import confusion_matrix\n",
    "cm = confusion_matrix(y_test.argmax(axis=1), predictions.argmax(axis=1))\n",
    "print(cm)\n",
    "name1='class_report'\n",
    "with open(str(name1)+\".txt\", \"w\") as f:\n",
    "    f.write(result)\n",
    "name3=cm\n",
    "#with open(str(name3)+\".txt\", \"w\") as f:\n",
    "#    f.write(CM)\n",
    "import matplotlib.pyplot as plt\n",
    "\n",
    "\n",
    "N = np.arange(0, 50)\n",
    "plt.style.use('ggplot')\n",
    "plt.figure()\n",
    "plt.plot(N, models.history['loss'], label='train_loss')\n",
    "plt.plot(N, models.history['val_loss'], label='val_loss')\n",
    "#plt.plot(N, models.history['acc'], label='train_acc')\n",
    "#plt.plot(N, models.history['val_acc'], label='val_acc')\n",
    "plt.title('Training loss and Accuracy')\n",
    "plt.xlabel('epoch #')\n",
    "plt.ylabel('loss/accuracy')\n",
    "plt.ylim((0, 10))\n",
    "plt.legend()\n",
    "name2='img'\n",
    "plt.savefig(str(name2)+'.png')\n",
    "#model.save(sys.args['model'])\n",
    "\n"
   ]
  },
  {
   "cell_type": "code",
   "execution_count": 17,
   "metadata": {},
   "outputs": [
    {
     "name": "stdout",
     "output_type": "stream",
     "text": [
      "10000/10000 [==============================] - 2s 188us/step\n",
      "Test loss: 1.117284504699707\n",
      "Test accuracy: 0.7968\n"
     ]
    }
   ],
   "source": [
    "model_type = 'ResNet%dv%d' % (32, 1)\n",
    "save_dir = os.path.join(os.getcwd(), 'saved_models')\n",
    "model_name = 'cifar10_%s_model.h5' % model_type\n",
    "\n",
    "\n",
    "model_path = os.path.join(save_dir, model_name)\n",
    "model.save(model_path)\n",
    "scores = model.evaluate(x_test, y_test, verbose=1)\n",
    "print('Test loss:', scores[0])\n",
    "print('Test accuracy:', scores[1])"
   ]
  },
  {
   "cell_type": "code",
   "execution_count": 27,
   "metadata": {},
   "outputs": [
    {
     "ename": "ValueError",
     "evalue": "You are trying to load a weight file containing 41 layers into a model with 0 layers.",
     "output_type": "error",
     "traceback": [
      "\u001b[1;31m---------------------------------------------------------------------------\u001b[0m",
      "\u001b[1;31mValueError\u001b[0m                                Traceback (most recent call last)",
      "\u001b[1;32m<ipython-input-27-b7bf07ad0b9d>\u001b[0m in \u001b[0;36m<module>\u001b[1;34m\u001b[0m\n\u001b[0;32m      1\u001b[0m \u001b[1;32mfrom\u001b[0m \u001b[0mkeras\u001b[0m\u001b[1;33m.\u001b[0m\u001b[0mmodels\u001b[0m \u001b[1;32mimport\u001b[0m \u001b[0mSequential\u001b[0m\u001b[1;33m\u001b[0m\u001b[1;33m\u001b[0m\u001b[0m\n\u001b[0;32m      2\u001b[0m \u001b[0mmodel2\u001b[0m \u001b[1;33m=\u001b[0m \u001b[0mSequential\u001b[0m\u001b[1;33m(\u001b[0m\u001b[1;33m)\u001b[0m\u001b[1;33m\u001b[0m\u001b[1;33m\u001b[0m\u001b[0m\n\u001b[1;32m----> 3\u001b[1;33m \u001b[0mmodel2\u001b[0m\u001b[1;33m.\u001b[0m\u001b[0mload_weights\u001b[0m\u001b[1;33m(\u001b[0m\u001b[1;34m\"./saved_models/cifar10_ResNet32v1_model.h5\"\u001b[0m\u001b[1;33m)\u001b[0m\u001b[1;33m\u001b[0m\u001b[1;33m\u001b[0m\u001b[0m\n\u001b[0m",
      "\u001b[1;32m~\\Anaconda3\\envs\\tensorflow\\lib\\site-packages\\keras\\engine\\network.py\u001b[0m in \u001b[0;36mload_weights\u001b[1;34m(self, filepath, by_name, skip_mismatch, reshape)\u001b[0m\n\u001b[0;32m   1164\u001b[0m             \u001b[1;32melse\u001b[0m\u001b[1;33m:\u001b[0m\u001b[1;33m\u001b[0m\u001b[1;33m\u001b[0m\u001b[0m\n\u001b[0;32m   1165\u001b[0m                 saving.load_weights_from_hdf5_group(\n\u001b[1;32m-> 1166\u001b[1;33m                     f, self.layers, reshape=reshape)\n\u001b[0m\u001b[0;32m   1167\u001b[0m \u001b[1;33m\u001b[0m\u001b[0m\n\u001b[0;32m   1168\u001b[0m     \u001b[1;32mdef\u001b[0m \u001b[0m_updated_config\u001b[0m\u001b[1;33m(\u001b[0m\u001b[0mself\u001b[0m\u001b[1;33m)\u001b[0m\u001b[1;33m:\u001b[0m\u001b[1;33m\u001b[0m\u001b[1;33m\u001b[0m\u001b[0m\n",
      "\u001b[1;32m~\\Anaconda3\\envs\\tensorflow\\lib\\site-packages\\keras\\engine\\saving.py\u001b[0m in \u001b[0;36mload_weights_from_hdf5_group\u001b[1;34m(f, layers, reshape)\u001b[0m\n\u001b[0;32m   1028\u001b[0m                          \u001b[1;34m'containing '\u001b[0m \u001b[1;33m+\u001b[0m \u001b[0mstr\u001b[0m\u001b[1;33m(\u001b[0m\u001b[0mlen\u001b[0m\u001b[1;33m(\u001b[0m\u001b[0mlayer_names\u001b[0m\u001b[1;33m)\u001b[0m\u001b[1;33m)\u001b[0m \u001b[1;33m+\u001b[0m\u001b[1;33m\u001b[0m\u001b[1;33m\u001b[0m\u001b[0m\n\u001b[0;32m   1029\u001b[0m                          \u001b[1;34m' layers into a model with '\u001b[0m \u001b[1;33m+\u001b[0m\u001b[1;33m\u001b[0m\u001b[1;33m\u001b[0m\u001b[0m\n\u001b[1;32m-> 1030\u001b[1;33m                          str(len(filtered_layers)) + ' layers.')\n\u001b[0m\u001b[0;32m   1031\u001b[0m \u001b[1;33m\u001b[0m\u001b[0m\n\u001b[0;32m   1032\u001b[0m     \u001b[1;31m# We batch weight value assignments in a single backend call\u001b[0m\u001b[1;33m\u001b[0m\u001b[1;33m\u001b[0m\u001b[1;33m\u001b[0m\u001b[0m\n",
      "\u001b[1;31mValueError\u001b[0m: You are trying to load a weight file containing 41 layers into a model with 0 layers."
     ]
    }
   ],
   "source": [
    "from keras.models import Sequential\n",
    "model2 = Sequential()\n",
    "model2.load_weights(\"./saved_models/cifar10_ResNet32v1_model.h5\")"
   ]
  }
 ],
 "metadata": {
  "kernelspec": {
   "display_name": "Python 3",
   "language": "python",
   "name": "python3"
  },
  "language_info": {
   "codemirror_mode": {
    "name": "ipython",
    "version": 3
   },
   "file_extension": ".py",
   "mimetype": "text/x-python",
   "name": "python",
   "nbconvert_exporter": "python",
   "pygments_lexer": "ipython3",
   "version": "3.7.4"
  },
  "pycharm": {
   "stem_cell": {
    "cell_type": "raw",
    "metadata": {
     "collapsed": false
    },
    "source": []
   }
  }
 },
 "nbformat": 4,
 "nbformat_minor": 1
}
