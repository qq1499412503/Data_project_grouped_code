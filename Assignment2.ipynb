{
  "nbformat": 4,
  "nbformat_minor": 0,
  "metadata": {
    "colab": {
      "name": "Untitled4.ipynb",
      "provenance": [],
      "collapsed_sections": [],
      "include_colab_link": true
    },
    "kernelspec": {
      "name": "python3",
      "display_name": "Python 3"
    }
  },
  "cells": [
    {
      "cell_type": "markdown",
      "metadata": {
        "id": "view-in-github",
        "colab_type": "text"
      },
      "source": [
        "<a href=\"https://colab.research.google.com/github/qq1499412503/data_A2/blob/master/Assignment2.ipynb\" target=\"_parent\"><img src=\"https://colab.research.google.com/assets/colab-badge.svg\" alt=\"Open In Colab\"/></a>"
      ]
    },
    {
      "cell_type": "code",
      "metadata": {
        "id": "2hKKm8dhy7Xv",
        "colab_type": "code",
        "colab": {
          "base_uri": "https://localhost:8080/",
          "height": 34
        },
        "outputId": "213a5ce5-ee44-4f49-953a-7eca7f974313"
      },
      "source": [
        "from __future__ import print_function\n",
        "import keras\n",
        "from keras.optimizers import SGD\n",
        "from keras.layers import add, Flatten, MaxPooling2D, Dropout, ZeroPadding2D\n",
        "from keras.layers import Dense, Conv2D, BatchNormalization, Activation\n",
        "from keras.layers import AveragePooling2D, Input, Flatten\n",
        "from keras.optimizers import Adam\n",
        "from keras.callbacks import ModelCheckpoint, LearningRateScheduler\n",
        "from keras.callbacks import ReduceLROnPlateau\n",
        "from keras.preprocessing.image import ImageDataGenerator\n",
        "from keras.regularizers import l2\n",
        "from keras import backend as K\n",
        "from keras.models import Model\n",
        "from keras.datasets import cifar10\n",
        "import numpy as np\n",
        "import os"
      ],
      "execution_count": 1,
      "outputs": [
        {
          "output_type": "stream",
          "text": [
            "Using TensorFlow backend.\n"
          ],
          "name": "stderr"
        }
      ]
    },
    {
      "cell_type": "markdown",
      "metadata": {
        "id": "1-NCvCR7zDnP",
        "colab_type": "text"
      },
      "source": [
        "# data pre-processing"
      ]
    },
    {
      "cell_type": "markdown",
      "metadata": {
        "id": "9vY74eA0zUkp",
        "colab_type": "text"
      },
      "source": [
        "Loading data from keras lib"
      ]
    },
    {
      "cell_type": "code",
      "metadata": {
        "id": "k1SbvlKIy-4_",
        "colab_type": "code",
        "colab": {}
      },
      "source": [
        "(x_train, y_train), (x_test, y_test) = cifar10.load_data()"
      ],
      "execution_count": 0,
      "outputs": []
    },
    {
      "cell_type": "markdown",
      "metadata": {
        "id": "huTZTg-BzZ_2",
        "colab_type": "text"
      },
      "source": [
        "print info to show data info"
      ]
    },
    {
      "cell_type": "code",
      "metadata": {
        "id": "fpEGRZmhzhqT",
        "colab_type": "code",
        "colab": {}
      },
      "source": [
        "def print_info(x_train, y_train, x_test):\n",
        "    print('x_train shape:', x_train.shape)\n",
        "    print(x_train.shape[0], 'train samples')\n",
        "    print(x_test.shape[0], 'test samples')\n",
        "    print('y_train shape:', y_train.shape)"
      ],
      "execution_count": 0,
      "outputs": []
    },
    {
      "cell_type": "markdown",
      "metadata": {
        "id": "-jY_Io0LzmpH",
        "colab_type": "text"
      },
      "source": [
        "preprocessing data based on normalization and subtract pixel mean"
      ]
    },
    {
      "cell_type": "code",
      "metadata": {
        "id": "t9EbLh2nzlPO",
        "colab_type": "code",
        "colab": {}
      },
      "source": [
        "def normalizer(x_train, x_test):\n",
        "    x_train = x_train.astype('float32') / 255\n",
        "    x_test = x_test.astype('float32') / 255\n",
        "    return x_train, x_test"
      ],
      "execution_count": 0,
      "outputs": []
    },
    {
      "cell_type": "code",
      "metadata": {
        "id": "lnMj0j5izzSV",
        "colab_type": "code",
        "colab": {}
      },
      "source": [
        "def subtract_pixel_mean(x_train, x_test):\n",
        "    x_train_mean = np.mean(x_train, axis=0)\n",
        "    x_train -= x_train_mean\n",
        "    x_test -= x_train_mean\n",
        "    return x_train, x_test"
      ],
      "execution_count": 0,
      "outputs": []
    },
    {
      "cell_type": "markdown",
      "metadata": {
        "id": "62R1qyNEz4qQ",
        "colab_type": "text"
      },
      "source": [
        "normallize the laber by converting class vectors to binary class matrices"
      ]
    },
    {
      "cell_type": "code",
      "metadata": {
        "id": "xzcm42bt0KdM",
        "colab_type": "code",
        "colab": {}
      },
      "source": [
        "def label_binary(y_train, y_test, num_classes):\n",
        "    y_train = keras.utils.to_categorical(y_train, num_classes)\n",
        "    y_test = keras.utils.to_categorical(y_test, num_classes)\n",
        "    return y_train, y_test"
      ],
      "execution_count": 0,
      "outputs": []
    },
    {
      "cell_type": "markdown",
      "metadata": {
        "id": "o1jIsN6O0T4z",
        "colab_type": "text"
      },
      "source": [
        "print and see the changes before and after pre-processing"
      ]
    },
    {
      "cell_type": "code",
      "metadata": {
        "id": "KkAUkNRw0LXu",
        "colab_type": "code",
        "colab": {}
      },
      "source": [
        "print_info(x_train, y_train, x_test)\n",
        "(x_train, x_test)=normalizer(x_train, x_test)\n",
        "#(x_train, x_test)=subtract_pixel_mean(x_train, x_test)\n",
        "(y_train, y_test)=label_binary(y_train, y_test, 10)\n",
        "print_info(x_train, y_train, x_test)"
      ],
      "execution_count": 0,
      "outputs": []
    },
    {
      "cell_type": "markdown",
      "metadata": {
        "id": "_XdT_iQJ0bLE",
        "colab_type": "text"
      },
      "source": [
        "# Modeling_Resnet"
      ]
    },
    {
      "cell_type": "markdown",
      "metadata": {
        "id": "DhXm000C0hyu",
        "colab_type": "text"
      },
      "source": [
        "create basic BN_layers"
      ]
    },
    {
      "cell_type": "code",
      "metadata": {
        "id": "LtE7MUsw0rnV",
        "colab_type": "code",
        "colab": {}
      },
      "source": [
        "#resnet default input use 224x224 image size, but cifar-10 only have 32x32\n",
        "#based on refercened atrical in report, The numbers of \n",
        "#filters are {16, 32, 64} respectively\n",
        "#here init by 16 with s 3×3 convolutions\n",
        "num_filters=16\n",
        "kernel_size=3\n",
        "strides=1\n",
        "\n",
        "def resnet_layer(inputs,\n",
        "                 num_filters=num_filters,\n",
        "                 kernel_size=kernel_size,\n",
        "                 strides=strides,\n",
        "                 activation='relu',\n",
        "                 batch_normalization=True,\n",
        "                 conv_first=True):\n",
        "\n",
        "    conv = Conv2D(num_filters,\n",
        "                  kernel_size=kernel_size,\n",
        "                  strides=strides,\n",
        "                  padding='same',\n",
        "                  kernel_initializer='he_normal',\n",
        "                  kernel_regularizer=l2(1e-4))\n",
        "\n",
        "    x = inputs\n",
        "    if conv_first:\n",
        "        x = conv(x)\n",
        "        if batch_normalization:\n",
        "            x = BatchNormalization()(x)\n",
        "        if activation is not None:\n",
        "            x = Activation(activation)(x)\n",
        "    else:\n",
        "        if batch_normalization:\n",
        "            x = BatchNormalization()(x)\n",
        "        if activation is not None:\n",
        "            x = Activation(activation)(x)\n",
        "        x = conv(x)\n",
        "    return x\n"
      ],
      "execution_count": 0,
      "outputs": []
    },
    {
      "cell_type": "markdown",
      "metadata": {
        "id": "AEc00sv12DuK",
        "colab_type": "text"
      },
      "source": [
        "structure model"
      ]
    },
    {
      "cell_type": "code",
      "metadata": {
        "id": "pRrvvtyG2IvP",
        "colab_type": "code",
        "colab": {}
      },
      "source": [
        "#model created by resnet following the structure in report\n",
        "#num_filters start with 16 and \n",
        "#num of blocks based on (depth-2)/6 which can be [20, 32, 44...]\n",
        "def resnet_model(input_shape, depth=32, num_classes=10):\n",
        "    num_filters = 16\n",
        "    if (depth - 2) % 6 != 0:\n",
        "        raise ValueError('depth should be 6n+2 (eg 20, 32, 44 in [a])')\n",
        "    num_res_blocks = int((depth - 2) / 6)\n",
        "    inputs = Input(shape=input_shape)\n",
        "    x = resnet_layer(inputs=inputs)\n",
        "    for stack in range(3):\n",
        "        for res_block in range(num_res_blocks):\n",
        "            strides = 1\n",
        "            if stack > 0 and res_block == 0: \n",
        "                strides = 2  \n",
        "            y = resnet_layer(inputs=x,\n",
        "                             num_filters=num_filters,\n",
        "                             strides=strides)\n",
        "            y = resnet_layer(inputs=y,\n",
        "                             num_filters=num_filters,\n",
        "                             activation=None)\n",
        "            if stack > 0 and res_block == 0:  \n",
        "                x = resnet_layer(inputs=x,\n",
        "                                 num_filters=num_filters,\n",
        "                                 kernel_size=1,\n",
        "                                 strides=strides,\n",
        "                                 activation=None,\n",
        "                                 batch_normalization=False)\n",
        "            x = keras.layers.add([x, y])\n",
        "            x = Activation('relu')(x)\n",
        "        num_filters *= 2\n",
        "\n",
        "    # Add classifier on top.\n",
        "    # v1 does not use BN after last shortcut connection-ReLU\n",
        "    x = AveragePooling2D(pool_size=8)(x)\n",
        "    y = Flatten()(x)\n",
        "    outputs = Dense(num_classes,\n",
        "                    activation='softmax',\n",
        "                    kernel_initializer='he_normal')(y)\n",
        "\n",
        "    # Instantiate model.\n",
        "    model = Model(inputs=inputs, outputs=outputs)\n",
        "    return model\n",
        "    "
      ],
      "execution_count": 0,
      "outputs": []
    },
    {
      "cell_type": "code",
      "metadata": {
        "id": "rQV1KWr_5Xhg",
        "colab_type": "code",
        "colab": {}
      },
      "source": [
        "#a example of resnet 32 is showing below\n",
        "def resnet_model_32(input_shape, depth=32, num_classes=10):\n",
        "    num_filters = 16\n",
        "    num_res_blocks = int((depth - 2) / 6)\n",
        "    inputs = Input(shape=input_shape)\n",
        "    x = resnet_layer(inputs=inputs)\n",
        "\n",
        "#starting build res_32 as example in 32 layers    \n",
        "#stack 0\n",
        "    #L1\n",
        "    y = resnet_layer(inputs=x,\n",
        "                     num_filters=16,\n",
        "                     strides=1)\n",
        "    y = resnet_layer(inputs=y,\n",
        "                     num_filters=16,\n",
        "                     activation=None)\n",
        "    #L2\n",
        "    y = resnet_layer(inputs=x,\n",
        "                     num_filters=16,\n",
        "                     strides=1)\n",
        "    y = resnet_layer(inputs=y,\n",
        "                     num_filters=16,\n",
        "                     activation=None)\n",
        "    #L3\n",
        "    y = resnet_layer(inputs=x,\n",
        "                     num_filters=16,\n",
        "                     strides=1)\n",
        "    y = resnet_layer(inputs=y,\n",
        "                     num_filters=16,\n",
        "                     activation=None)\n",
        "    #L4\n",
        "    y = resnet_layer(inputs=x,\n",
        "                     num_filters=16,\n",
        "                     strides=1)\n",
        "    y = resnet_layer(inputs=y,\n",
        "                     num_filters=16,\n",
        "                     activation=None)\n",
        "    #L5\n",
        "    y = resnet_layer(inputs=x,\n",
        "                     num_filters=16,\n",
        "                     strides=1)\n",
        "    y = resnet_layer(inputs=y,\n",
        "                     num_filters=16,\n",
        "                     activation=None)\n",
        "    \n",
        "#stack 1\n",
        "    #L1\n",
        "    y = resnet_layer(inputs=x,\n",
        "                     num_filters=32,\n",
        "                     strides=2)\n",
        "    y = resnet_layer(inputs=y,\n",
        "                     num_filters=32,\n",
        "                     activation=None)\n",
        "    x = resnet_layer(inputs=x,\n",
        "                 num_filters=num_filters,\n",
        "                 kernel_size=1,\n",
        "                 strides=strides,\n",
        "                 activation=None,\n",
        "                 batch_normalization=False)\n",
        "    #L2\n",
        "    y = resnet_layer(inputs=x,\n",
        "                     num_filters=32,\n",
        "                     strides=1)\n",
        "    y = resnet_layer(inputs=y,\n",
        "                     num_filters=32,\n",
        "                     activation=None)\n",
        "    #L3\n",
        "    y = resnet_layer(inputs=x,\n",
        "                     num_filters=32,\n",
        "                     strides=1)\n",
        "    y = resnet_layer(inputs=y,\n",
        "                     num_filters=32,\n",
        "                     activation=None)\n",
        "    #L4\n",
        "    y = resnet_layer(inputs=x,\n",
        "                     num_filters=32,\n",
        "                     strides=1)\n",
        "    y = resnet_layer(inputs=y,\n",
        "                     num_filters=32,\n",
        "                     activation=None)\n",
        "    #L5\n",
        "    y = resnet_layer(inputs=x,\n",
        "                     num_filters=32,\n",
        "                     strides=1)\n",
        "    y = resnet_layer(inputs=y,\n",
        "                     num_filters=32,\n",
        "                     activation=None)\n",
        "#stack 2\n",
        "    #L1\n",
        "    y = resnet_layer(inputs=x,\n",
        "                     num_filters=64,\n",
        "                     strides=2)\n",
        "    y = resnet_layer(inputs=y,\n",
        "                     num_filters=64,\n",
        "                     activation=None)\n",
        "    x = resnet_layer(inputs=x,\n",
        "                 num_filters=num_filters,\n",
        "                 kernel_size=1,\n",
        "                 strides=strides,\n",
        "                 activation=None,\n",
        "                 batch_normalization=False)\n",
        "    #L2\n",
        "    y = resnet_layer(inputs=x,\n",
        "                     num_filters=64,\n",
        "                     strides=1)\n",
        "    y = resnet_layer(inputs=y,\n",
        "                     num_filters=64,\n",
        "                     activation=None)\n",
        "    #L3\n",
        "    y = resnet_layer(inputs=x,\n",
        "                     num_filters=64,\n",
        "                     strides=1)\n",
        "    y = resnet_layer(inputs=y,\n",
        "                     num_filters=64,\n",
        "                     activation=None)\n",
        "    #L4\n",
        "    y = resnet_layer(inputs=x,\n",
        "                     num_filters=64,\n",
        "                     strides=1)\n",
        "    y = resnet_layer(inputs=y,\n",
        "                     num_filters=64,\n",
        "                     activation=None)\n",
        "    #L5\n",
        "    y = resnet_layer(inputs=x,\n",
        "                     num_filters=64,\n",
        "                     strides=1)\n",
        "    y = resnet_layer(inputs=y,\n",
        "                     num_filters=64,\n",
        "                     activation=None)\n",
        "         \n",
        "            x = keras.layers.add([x, y])\n",
        "            x = Activation('relu')(x)\n",
        "        num_filters *= 2\n",
        "\n",
        "    # Add classifier on top.\n",
        "    # v1 does not use BN after last shortcut connection-ReLU\n",
        "    x = AveragePooling2D(pool_size=8)(x)\n",
        "    y = Flatten()(x)\n",
        "    outputs = Dense(num_classes,\n",
        "                    activation='softmax',\n",
        "                    kernel_initializer='he_normal')(y)\n",
        "\n",
        "    # Instantiate model.\n",
        "    model = Model(inputs=inputs, outputs=outputs)\n",
        "    return model"
      ],
      "execution_count": 0,
      "outputs": []
    },
    {
      "cell_type": "markdown",
      "metadata": {
        "id": "PxPqlmQp9tDo",
        "colab_type": "text"
      },
      "source": [
        "Training the model"
      ]
    },
    {
      "cell_type": "code",
      "metadata": {
        "id": "MXxo_mMX9wHW",
        "colab_type": "code",
        "colab": {}
      },
      "source": [
        "#model would be training based on irrationable learning rate on both SGD \n",
        "#and adam optmizer\n",
        "def lr_schedule(epoch):\n",
        "    lr = 1e-3\n",
        "    if epoch > 180:\n",
        "        lr *= 0.5e-3\n",
        "    elif epoch > 160:\n",
        "        lr *= 1e-3\n",
        "    elif epoch > 120:\n",
        "        lr *= 1e-2\n",
        "    elif epoch > 80:\n",
        "        lr *= 1e-1\n",
        "    print('Learning rate: ', lr)\n",
        "    return lr\n",
        "\n",
        "input_shape = x_train.shape[1:]\n",
        "model = resnet_model(input_shape=input_shape, depth=32)\n",
        "model.compile(loss='categorical_crossentropy',\n",
        "              optimizer=SGD(lr=lr_schedule(0)),\n",
        "              metrics=['accuracy'])"
      ],
      "execution_count": 0,
      "outputs": []
    },
    {
      "cell_type": "code",
      "metadata": {
        "id": "p6op5N3R-AfY",
        "colab_type": "code",
        "colab": {}
      },
      "source": [
        "#training in specific batch_size, 32 is better for both training speed \n",
        "#and loss decreasing\n",
        "models=model.fit(x_train, y_train,\n",
        "              batch_size=32,\n",
        "              epochs=100,\n",
        "          validation_data=(x_test, y_test),\n",
        "              )"
      ],
      "execution_count": 0,
      "outputs": []
    },
    {
      "cell_type": "markdown",
      "metadata": {
        "id": "prsPSqqT_qAw",
        "colab_type": "text"
      },
      "source": [
        "# Evaluating"
      ]
    },
    {
      "cell_type": "markdown",
      "metadata": {
        "id": "9H_krzQF_8q5",
        "colab_type": "text"
      },
      "source": [
        "Classification report"
      ]
    },
    {
      "cell_type": "code",
      "metadata": {
        "id": "5a6XlstB_h9A",
        "colab_type": "code",
        "colab": {}
      },
      "source": [
        "#classification_report will be produced to show the f-score of each class \n",
        "#and its recall value\n",
        "predictions = model.predict(x_test, batch_size=16)\n",
        "print('[INFO] Evaluating model')\n",
        "from sklearn.metrics import classification_report\n",
        "result = classification_report(y_test.argmax(axis=1), predictions.argmax(axis=1),\n",
        "                            target_names=['airplane', 'automobile', 'bird',\n",
        "                                          'cat','deer','dog','frog','horse','ship','truck'])\n",
        "print(result)"
      ],
      "execution_count": 0,
      "outputs": []
    },
    {
      "cell_type": "markdown",
      "metadata": {
        "id": "uQDo9FyCAAP0",
        "colab_type": "text"
      },
      "source": [
        "Confusion matrix"
      ]
    },
    {
      "cell_type": "code",
      "metadata": {
        "id": "9uWMQrGE_7-q",
        "colab_type": "code",
        "colab": {}
      },
      "source": [
        "#confusion matrix will be used to present the ability to class the image for \n",
        "#each class\n",
        "#label follow by the order of target_names=['airplane', 'automobile', 'bird',\n",
        "#                            'cat','deer','dog','frog','horse','ship','truck']\n",
        "from sklearn.metrics import confusion_matrix\n",
        "cm = confusion_matrix(y_test.argmax(axis=1), predictions.argmax(axis=1))\n",
        "print(cm)"
      ],
      "execution_count": 0,
      "outputs": []
    },
    {
      "cell_type": "markdown",
      "metadata": {
        "id": "tpC1y1pVAiQN",
        "colab_type": "text"
      },
      "source": [
        "Training loss"
      ]
    },
    {
      "cell_type": "code",
      "metadata": {
        "id": "kRtv43vMAl6j",
        "colab_type": "code",
        "colab": {}
      },
      "source": [
        "# loss in both training and test sets will be plot following\n",
        "#loss is able to show the changes of model in performance\n",
        "\n",
        "\n",
        "import matplotlib.pyplot as plt\n",
        "\n",
        "N = np.arange(0, 200)\n",
        "plt.style.use('ggplot')\n",
        "plt.figure()\n",
        "plt.plot(N, models.history['loss'], label='train_loss')\n",
        "plt.plot(N, models.history['val_loss'], label='val_loss')\n",
        "plt.plot(N, models.history['acc'], label='train_acc')\n",
        "plt.plot(N, models.history['val_acc'], label='val_acc')\n",
        "plt.title('Training loss and Accuracy')\n",
        "plt.xlabel('epoch #')\n",
        "plt.ylabel('loss/accuracy')\n",
        "plt.ylim((0, 10))\n",
        "plt.legend()\n",
        "#name2='img'\n",
        "#plt.savefig(str(name2)+'.png')"
      ],
      "execution_count": 0,
      "outputs": []
    },
    {
      "cell_type": "code",
      "metadata": {
        "id": "fMmNvGicBKQR",
        "colab_type": "code",
        "colab": {}
      },
      "source": [
        "save_dir = os.path.join(os.getcwd(), 'saved_models')\n",
        "model_name = 'cifar10_%s_model.{epoch:03d}.h5' % model_type\n",
        "if not os.path.isdir(save_dir):\n",
        "    os.makedirs(save_dir)\n",
        "filepath = os.path.join(save_dir, model_name)\n",
        "models.save(filepath)"
      ],
      "execution_count": 0,
      "outputs": []
    }
  ]
}